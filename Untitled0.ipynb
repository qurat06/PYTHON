{
  "nbformat": 4,
  "nbformat_minor": 0,
  "metadata": {
    "colab": {
      "provenance": [],
      "authorship_tag": "ABX9TyORrWb31oWuC1gJKMlsCNyc",
      "include_colab_link": true
    },
    "kernelspec": {
      "name": "python3",
      "display_name": "Python 3"
    },
    "language_info": {
      "name": "python"
    }
  },
  "cells": [
    {
      "cell_type": "markdown",
      "metadata": {
        "id": "view-in-github",
        "colab_type": "text"
      },
      "source": [
        "<a href=\"https://colab.research.google.com/github/qurat06/PYTHON/blob/main/Untitled0.ipynb\" target=\"_parent\"><img src=\"https://colab.research.google.com/assets/colab-badge.svg\" alt=\"Open In Colab\"/></a>"
      ]
    },
    {
      "cell_type": "code",
      "execution_count": 111,
      "metadata": {
        "id": "XpWhWJuanM4L"
      },
      "outputs": [],
      "source": [
        "file = open(\"harry_potter.txt\",\"r\")\n",
        "data = file.read()"
      ]
    },
    {
      "cell_type": "markdown",
      "source": [],
      "metadata": {
        "id": "fUtVG4aGpyq6"
      }
    },
    {
      "cell_type": "code",
      "source": [
        "data"
      ],
      "metadata": {
        "colab": {
          "base_uri": "https://localhost:8080/",
          "height": 53
        },
        "id": "OA84GUUHp4iC",
        "outputId": "bb832c9d-0abb-4872-fa83-be6bf9cf8c8c"
      },
      "execution_count": 112,
      "outputs": [
        {
          "output_type": "execute_result",
          "data": {
            "text/plain": [
              "\"Harry Potter\\nPhilosopher's Stone (1997)\\nChamber of Secrets (1998)\\nPrisoner of Azkaban (1999)\\nGoblet of Fire (2000)\\nOrder of the Phoenix (2003)\\nHalf-Blood Prince (2005)\\nDeathly Hallows (2007)\\nJK Rowling\""
            ],
            "application/vnd.google.colaboratory.intrinsic+json": {
              "type": "string"
            }
          },
          "metadata": {},
          "execution_count": 112
        }
      ]
    },
    {
      "cell_type": "code",
      "source": [
        "splittedData = data.split('\\n')\n",
        "splittedData"
      ],
      "metadata": {
        "colab": {
          "base_uri": "https://localhost:8080/"
        },
        "id": "ogg805kBp5gZ",
        "outputId": "3d8c72ce-7a8e-44bf-a80d-16ac69624a61"
      },
      "execution_count": 113,
      "outputs": [
        {
          "output_type": "execute_result",
          "data": {
            "text/plain": [
              "['Harry Potter',\n",
              " \"Philosopher's Stone (1997)\",\n",
              " 'Chamber of Secrets (1998)',\n",
              " 'Prisoner of Azkaban (1999)',\n",
              " 'Goblet of Fire (2000)',\n",
              " 'Order of the Phoenix (2003)',\n",
              " 'Half-Blood Prince (2005)',\n",
              " 'Deathly Hallows (2007)',\n",
              " 'JK Rowling']"
            ]
          },
          "metadata": {},
          "execution_count": 113
        }
      ]
    },
    {
      "cell_type": "code",
      "source": [
        "key = splittedData[0]\n",
        "key"
      ],
      "metadata": {
        "colab": {
          "base_uri": "https://localhost:8080/",
          "height": 35
        },
        "id": "Lg3htHpEqJeL",
        "outputId": "00917410-4544-4e86-b58c-2e90c29ce653"
      },
      "execution_count": 114,
      "outputs": [
        {
          "output_type": "execute_result",
          "data": {
            "text/plain": [
              "'Harry Potter'"
            ],
            "application/vnd.google.colaboratory.intrinsic+json": {
              "type": "string"
            }
          },
          "metadata": {},
          "execution_count": 114
        }
      ]
    },
    {
      "cell_type": "code",
      "source": [
        "author = splittedData[-1]\n",
        "author"
      ],
      "metadata": {
        "colab": {
          "base_uri": "https://localhost:8080/",
          "height": 35
        },
        "id": "aF43rwozrX_1",
        "outputId": "292327d5-fab5-4f10-8117-86f4208604fe"
      },
      "execution_count": 115,
      "outputs": [
        {
          "output_type": "execute_result",
          "data": {
            "text/plain": [
              "'JK Rowling'"
            ],
            "application/vnd.google.colaboratory.intrinsic+json": {
              "type": "string"
            }
          },
          "metadata": {},
          "execution_count": 115
        }
      ]
    },
    {
      "cell_type": "code",
      "source": [
        " titleYear = splittedData[1:-1]\n",
        " titleYear"
      ],
      "metadata": {
        "colab": {
          "base_uri": "https://localhost:8080/"
        },
        "id": "pVB52S2ir_sn",
        "outputId": "7919ed4f-bad9-4770-c450-c8df50aecde6"
      },
      "execution_count": 116,
      "outputs": [
        {
          "output_type": "execute_result",
          "data": {
            "text/plain": [
              "[\"Philosopher's Stone (1997)\",\n",
              " 'Chamber of Secrets (1998)',\n",
              " 'Prisoner of Azkaban (1999)',\n",
              " 'Goblet of Fire (2000)',\n",
              " 'Order of the Phoenix (2003)',\n",
              " 'Half-Blood Prince (2005)',\n",
              " 'Deathly Hallows (2007)']"
            ]
          },
          "metadata": {},
          "execution_count": 116
        }
      ]
    },
    {
      "cell_type": "code",
      "source": [
        "D={}\n",
        "i=0\n",
        "for i in range(len(titleYear)):\n",
        "  dKey = key + \" \" +str(i+1)\n",
        "  D[dKey]=None"
      ],
      "metadata": {
        "id": "wk0UJHvLshFB"
      },
      "execution_count": 117,
      "outputs": []
    },
    {
      "cell_type": "code",
      "source": [
        "D"
      ],
      "metadata": {
        "colab": {
          "base_uri": "https://localhost:8080/"
        },
        "id": "jNiPl4nxvqlG",
        "outputId": "17be6014-8fba-4e48-8b58-afbc900e94e1"
      },
      "execution_count": 118,
      "outputs": [
        {
          "output_type": "execute_result",
          "data": {
            "text/plain": [
              "{'Harry Potter 1': None,\n",
              " 'Harry Potter 2': None,\n",
              " 'Harry Potter 3': None,\n",
              " 'Harry Potter 4': None,\n",
              " 'Harry Potter 5': None,\n",
              " 'Harry Potter 6': None,\n",
              " 'Harry Potter 7': None}"
            ]
          },
          "metadata": {},
          "execution_count": 118
        }
      ]
    },
    {
      "cell_type": "code",
      "source": [
        "titleList=[]\n",
        "yearList=[]\n",
        "for i in titleYear:\n",
        "  temp=i.split('(')\n",
        "  print(temp[0].strip())\n",
        "  print(temp[1].strip()[:-1])"
      ],
      "metadata": {
        "colab": {
          "base_uri": "https://localhost:8080/"
        },
        "id": "hRsauiEgvrUG",
        "outputId": "0b232061-9d11-4d09-a355-d5e6c18af8e9"
      },
      "execution_count": 119,
      "outputs": [
        {
          "output_type": "stream",
          "name": "stdout",
          "text": [
            "Philosopher's Stone\n",
            "1997\n",
            "Chamber of Secrets\n",
            "1998\n",
            "Prisoner of Azkaban\n",
            "1999\n",
            "Goblet of Fire\n",
            "2000\n",
            "Order of the Phoenix\n",
            "2003\n",
            "Half-Blood Prince\n",
            "2005\n",
            "Deathly Hallows\n",
            "2007\n"
          ]
        }
      ]
    },
    {
      "cell_type": "code",
      "source": [
        "titleList=[]\n",
        "yearList=[]\n",
        "for i in titleYear:\n",
        "  temp=(i.split('('))\n",
        "  titleList.append(temp[0].strip())\n",
        "  yearList.append(temp[1].strip()[:-1])\n",
        ""
      ],
      "metadata": {
        "id": "r7z7FEIf3d-Z"
      },
      "execution_count": 120,
      "outputs": []
    },
    {
      "cell_type": "code",
      "source": [
        "titleList"
      ],
      "metadata": {
        "colab": {
          "base_uri": "https://localhost:8080/"
        },
        "id": "YhdIvwi_8BO0",
        "outputId": "63d6521f-77bd-4f8f-82ea-94dd8505113b"
      },
      "execution_count": 121,
      "outputs": [
        {
          "output_type": "execute_result",
          "data": {
            "text/plain": [
              "[\"Philosopher's Stone\",\n",
              " 'Chamber of Secrets',\n",
              " 'Prisoner of Azkaban',\n",
              " 'Goblet of Fire',\n",
              " 'Order of the Phoenix',\n",
              " 'Half-Blood Prince',\n",
              " 'Deathly Hallows']"
            ]
          },
          "metadata": {},
          "execution_count": 121
        }
      ]
    },
    {
      "cell_type": "code",
      "source": [
        "yearList"
      ],
      "metadata": {
        "colab": {
          "base_uri": "https://localhost:8080/"
        },
        "id": "eoTSgdgX8DUQ",
        "outputId": "4ee0c615-7999-4791-8234-9bce71745818"
      },
      "execution_count": 122,
      "outputs": [
        {
          "output_type": "execute_result",
          "data": {
            "text/plain": [
              "['1997', '1998', '1999', '2000', '2003', '2005', '2007']"
            ]
          },
          "metadata": {},
          "execution_count": 122
        }
      ]
    },
    {
      "cell_type": "code",
      "source": [
        "# d={}\n",
        "i=0\n",
        "for key in D:\n",
        "  D[key]={\"title\":titleList[i],\"year\":yearList[i],\"author\":author}\n",
        "  i+=1\n"
      ],
      "metadata": {
        "id": "4kof32c7__lK"
      },
      "execution_count": 123,
      "outputs": []
    },
    {
      "cell_type": "code",
      "source": [
        "for key in D:\n",
        "  print(key,D[key])"
      ],
      "metadata": {
        "colab": {
          "base_uri": "https://localhost:8080/"
        },
        "id": "ZH8ykAGDCCW1",
        "outputId": "a62796e4-8b0e-4523-fbcf-e84cbe92e177"
      },
      "execution_count": 126,
      "outputs": [
        {
          "output_type": "stream",
          "name": "stdout",
          "text": [
            "Harry Potter 1 {'title': \"Philosopher's Stone\", 'year': '1997', 'author': 'JK Rowling'}\n",
            "Harry Potter 2 {'title': 'Chamber of Secrets', 'year': '1998', 'author': 'JK Rowling'}\n",
            "Harry Potter 3 {'title': 'Prisoner of Azkaban', 'year': '1999', 'author': 'JK Rowling'}\n",
            "Harry Potter 4 {'title': 'Goblet of Fire', 'year': '2000', 'author': 'JK Rowling'}\n",
            "Harry Potter 5 {'title': 'Order of the Phoenix', 'year': '2003', 'author': 'JK Rowling'}\n",
            "Harry Potter 6 {'title': 'Half-Blood Prince', 'year': '2005', 'author': 'JK Rowling'}\n",
            "Harry Potter 7 {'title': 'Deathly Hallows', 'year': '2007', 'author': 'JK Rowling'}\n"
          ]
        }
      ]
    },
    {
      "cell_type": "code",
      "source": [],
      "metadata": {
        "id": "Xrz2sZgbDoG9"
      },
      "execution_count": 124,
      "outputs": []
    }
  ]
}